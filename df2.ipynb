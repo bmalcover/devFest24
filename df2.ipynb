{
  "nbformat": 4,
  "nbformat_minor": 0,
  "metadata": {
    "colab": {
      "provenance": [],
      "gpuType": "T4"
    },
    "kernelspec": {
      "name": "python3",
      "display_name": "Python 3"
    },
    "language_info": {
      "name": "python"
    },
    "accelerator": "GPU"
  },
  "cells": [
    {
      "cell_type": "markdown",
      "source": [
        "# Generación de imágenes\n",
        "\n",
        "La generación de imágenes es el proceso en el que un modelo de inteligencia artificial aprende a crear nuevas imágenes a partir de un conjunto de datos.\n",
        "Este tipo de modelos, especialmente las redes neuronales profundas, han revolucionado el campo de la creación de imágenes artificialmente, con aplicaciones que van desde el arte digital a la síntesis realista de escenas.\n",
        "\n",
        " ## **Que haremos en esta parte del taller?**\n",
        "\n",
        "En esta parte del taller probaremos la red CycleGAN para ver un cambio de estilo entre imagenes.\n",
        "\n",
        "Para ello deberemos cambiar el **entorno de ejecución** a uno que tenga GPU.\n",
        "\n",
        "## Pix2Pix y CycleGAN\n",
        "\n",
        "Pix2Pix y CycleGAN son dos modelos de inteligencia artificial basados ​​en redes generativas adversarias (GANs), utilizados para realizar conversiones de imágenes de un dominio a otro. Ambos se utilizan en la tarea de traducción de imágenes, pero tienen algunas diferencias en su enfoque y aplicación.\n",
        "\n",
        "Tenemos algunos ejemplos:\n",
        "\n",
        "* [pix2pix](https://phillipi.github.io/pix2pix/)\n",
        "* [ArcaneGAN](https://github.com/Sxela/ArcaneGAN)\n",
        "* [img2img-turbo](https://github.com/GaParmar/img2img-turbo)\n",
        "\n",
        "\n",
        "TODO POSAR IMATGE GAN\n",
        "\n",
        "\n",
        "Demostración de esta tecnología: [aquí](https://affinelayer.com/pixsrv/)\n"
      ],
      "metadata": {
        "id": "rHJvyLN-pMV5"
      }
    },
    {
      "cell_type": "markdown",
      "source": [
        "# CycleGAN\n",
        "\n",
        "[Repositorio oficial](https://github.com/junyanz/pytorch-CycleGAN-and-pix2pix)\n",
        "\n",
        "Vamos a ver algún resultado con CycleGan para ver que podemos reutilizar trabajo ya realizado por otros.\n",
        "\n",
        "Como esta es una red más dedicada a la investigación debemos hacer un par de pasos para instalarla y configurarla en nuestro entorno."
      ],
      "metadata": {
        "id": "GypFC-pG2lpv"
      }
    },
    {
      "cell_type": "code",
      "source": [
        "!git clone https://github.com/junyanz/pytorch-CycleGAN-and-pix2pix"
      ],
      "metadata": {
        "id": "tzBwLxqt2lRN"
      },
      "execution_count": null,
      "outputs": []
    },
    {
      "cell_type": "code",
      "source": [
        "import os\n",
        "os.chdir('pytorch-CycleGAN-and-pix2pix/')"
      ],
      "metadata": {
        "id": "rgQjVDjhzKCl"
      },
      "execution_count": 2,
      "outputs": []
    },
    {
      "cell_type": "code",
      "source": [
        "!pip install -r requirements.txt"
      ],
      "metadata": {
        "id": "C8Y3W_6B_Nlm"
      },
      "execution_count": null,
      "outputs": []
    },
    {
      "cell_type": "markdown",
      "source": [
        "## Modelos ya entrenados\n",
        "\n",
        "Nosotros nos aprovecharemos que el autor nos ha dejado algunos modelos con la capacidad de cambiar el estilo de nuestras imágenes:\n",
        "\n",
        "Nos podemos descargar un modelo con el siguiente _script_:\n",
        "\n",
        "```\n",
        "bash ./scripts/download_cyclegan_model.sh [apple2orange, orange2apple, summer2winter_yosemite, winter2summer_yosemite, horse2zebra, zebra2horse, monet2photo, style_monet, style_cezanne, style_ukiyoe, style_vangogh, sat2map, map2sat, cityscapes_photo2label, cityscapes_label2photo, facades_photo2label, facades_label2photo, iphone2dslr_flower]\n",
        "```\n",
        "\n"
      ],
      "metadata": {
        "id": "Qoi3pejF_cm8"
      }
    },
    {
      "cell_type": "code",
      "source": [
        "!bash ./scripts/download_cyclegan_model.sh style_ukiyoe"
      ],
      "metadata": {
        "id": "3aVjJu2S_ZdK"
      },
      "execution_count": null,
      "outputs": []
    },
    {
      "cell_type": "markdown",
      "source": [
        "## Testeando el modelo\n",
        "\n"
      ],
      "metadata": {
        "id": "NsTnJisXBJSg"
      }
    },
    {
      "cell_type": "code",
      "source": [
        "!python test.py --dataroot ../img --name style_ukiyoe_pretrained --model test --no_dropout"
      ],
      "metadata": {
        "id": "Da6z2WvkBI8H"
      },
      "execution_count": null,
      "outputs": []
    },
    {
      "cell_type": "markdown",
      "source": [
        "## Resultados\n"
      ],
      "metadata": {
        "id": "ePvRocDhH-X1"
      }
    },
    {
      "cell_type": "code",
      "source": [
        "import matplotlib.pyplot as plt\n",
        "import cv2\n",
        "\n"
      ],
      "metadata": {
        "id": "j8sWK-1OIBFT"
      },
      "execution_count": null,
      "outputs": []
    },
    {
      "cell_type": "markdown",
      "source": [
        "## Ejemplos IA generativa relacionados con las caras\n",
        "\n",
        "[HuggingFace](https://huggingface.com/) es una plataforma (y una empresa) que proporciona herramientas para el desarrollo y la implementación de modelos de inteligencia artificial, especialmente modelos de procesamiento del lenguaje natural (NLP).\n",
        "\n",
        "Para la parte que nos interesa, nosotros investigaremos la parte de _spaces_, un servicio que permite crear y compartir aplicaciones basadas en modelos de IA de forma fácil.\n",
        "\n",
        "Veremos algunos ejemplos para tener un poco la idea de las posibilidades que nos presenta:\n",
        "\n",
        "- Expression editor [enlace](https://huggingface.co/spaces/fffiloni/expression-editor)\n",
        "- Face Dancer [enlace](https://huggingface.co/spaces/felixrosberg/face-swap)\n",
        "- Facial Expression Recognition [enlace](https://huggingface.co/spaces/Mrchr0mebox009/Face_recog_emo)\n"
      ],
      "metadata": {
        "id": "vcCaEbiTzKkS"
      }
    }
  ]
}